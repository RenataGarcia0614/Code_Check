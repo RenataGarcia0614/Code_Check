{
 "cells": [
  {
   "cell_type": "code",
   "execution_count": 196,
   "metadata": {},
   "outputs": [
    {
     "name": "stdout",
     "output_type": "stream",
     "text": [
      "<class '_io.TextIOWrapper'>\n",
      "<class '_csv.reader'>\n",
      "['Max_Salary', 'Min_Salary', 'Avg_Salary'] <---- HEADER\n",
      "['150000', '35000', '74166.67']\n",
      "0 0 74166.67\n"
     ]
    }
   ],
   "source": [
    "# # Import the pathlib and csv library\n",
    "from pathlib import Path \n",
    "import csv \n",
    "csvpath = Path('output.csv')\n",
    "Salaries = []\n",
    "line_num = 0\n",
    "with open (csvpath, 'r') as csvfile:\n",
    "    print(type(csvfile))\n",
    "    csvreader = csv.reader(csvfile, delimiter=',')\n",
    "    print(type(csvreader))\n",
    "    header = next(csvreader)\n",
    "    line_num += 1\n",
    "    print(f\"{header} <---- HEADER\")\n",
    "    for row in csvreader:\n",
    "        print(row)\n",
    "        salary =float(row[2])\n",
    "        Salaries.append(salary)\n",
    "max_salary = 0\n",
    "min_salary = 0\n",
    "avg_salary = 0\n",
    "total_salary = 0\n",
    "count_salary = 0\n",
    "for salary in Salaries: \n",
    "    total_salary += salary\n",
    "    count_salary += 1\n",
    "# logic to determine min and max # when does the time come to use else\n",
    "    if min_salary == 0:\n",
    "        min_salary = 0\n",
    "    elif salary > max_salary:\n",
    "        max_salary = salary\n",
    "    elif salary < min_salary:\n",
    "        min_salary = salary\n",
    "avg_salary = round(total_salary/count_salary,2)\n",
    "print(max_salary,min_salary,avg_salary)\n",
    "\n"
   ]
  },
  {
   "cell_type": "code",
   "execution_count": null,
   "metadata": {},
   "outputs": [],
   "source": []
  }
 ],
 "metadata": {
  "kernelspec": {
   "display_name": "Python 3",
   "language": "python",
   "name": "python3"
  },
  "language_info": {
   "codemirror_mode": {
    "name": "ipython",
    "version": 3
   },
   "file_extension": ".py",
   "mimetype": "text/x-python",
   "name": "python",
   "nbconvert_exporter": "python",
   "pygments_lexer": "ipython3",
   "version": "3.7.7"
  }
 },
 "nbformat": 4,
 "nbformat_minor": 4
}
