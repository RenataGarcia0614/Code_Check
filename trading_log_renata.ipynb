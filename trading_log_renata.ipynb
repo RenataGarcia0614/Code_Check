{
 "cells": [
  {
   "cell_type": "markdown",
   "metadata": {},
   "source": [
    "Student Do: Trading Log.\n",
    "\n",
    "This script demonstrates how to perform basic analysis of trading profits/losses\n",
    "over the course of a month (20 business days).\n"
   ]
  },
  {
   "cell_type": "code",
   "execution_count": 77,
   "metadata": {},
   "outputs": [],
   "source": [
    "# @TODO: Initialize the metric variables\n",
    "count = 0\n",
    "total = 0\n",
    "average = 0\n",
    "minimum = 0\n",
    "maximum = 0"
   ]
  },
  {
   "cell_type": "code",
   "execution_count": 78,
   "metadata": {},
   "outputs": [],
   "source": [
    "# @TODO: Initialize lists to hold profitable and unprofitable day profits/losspfrot\n",
    "profitable_days =[]\n",
    "unprofitable_days =[]"
   ]
  },
  {
   "cell_type": "code",
   "execution_count": 90,
   "metadata": {},
   "outputs": [
    {
     "name": "stdout",
     "output_type": "stream",
     "text": [
      "-224\n",
      "352\n",
      "252\n",
      "354\n",
      "-544\n",
      "-650\n",
      "56\n",
      "123\n",
      "-43\n",
      "254\n",
      "325\n",
      "-123\n",
      "47\n",
      "321\n",
      "123\n",
      "133\n",
      "-151\n",
      "613\n",
      "232\n",
      "-311\n"
     ]
    }
   ],
   "source": [
    "# List of trading profits/losses\n",
    "trading_book = [ -224,  352, 252, 354, -544,\n",
    "                -650,   56, 123, -43,  254,\n",
    "                 325, -123,  47, 321,  123,\n",
    "                 133, -151, 613, 232, -311 ]\n",
    "\n",
    "for days_book in trading_book:\n",
    "    print(days_book)"
   ]
  },
  {
   "cell_type": "code",
   "execution_count": 80,
   "metadata": {},
   "outputs": [],
   "source": [
    "# @TODO: Iterate over each element of the list\n",
    "for days_book in trading_book:\n",
    "    # @TODO: Cumulatively sum up the total and count\n",
    "    total += days_book\n",
    "    count += 1 \n",
    "\n",
    "\n",
    "    # @TODO: Write logic to determine minimum and maximum values\n",
    "if minimum == 0:\n",
    "    minimum = days_book\n",
    "elif days_book < minimum:\n",
    "        minimum = days_book\n",
    "elif days_book > maximum:\n",
    "    maximum = days_book\n",
    "\n",
    "    # @TODO: Write logic to determine profitable vs. unprofitable days\n",
    "    \n",
    "if days_book > 0:\n",
    "    profitable_days.append(days_book)\n",
    "\n",
    "elif days_book <= 0:\n",
    "    unprofitable_days.append(days_book)\n",
    "    \n"
   ]
  },
  {
   "cell_type": "code",
   "execution_count": 81,
   "metadata": {},
   "outputs": [],
   "source": [
    "# @TODO: Calculate the average\n",
    "average=round(total/count,2)\n",
    "# @TODO: Calculate count metrics\n",
    "profitable_count=len(profitable_days)\n",
    "unprofitable_count=len(unprofitable_days)\n",
    "\n",
    "# @TODO: Calculate percentage metrics\n",
    "percent_profit= profitable_count/count * 100\n",
    "percent_unprofit=unprofitable_count/count *100"
   ]
  },
  {
   "cell_type": "code",
   "execution_count": 82,
   "metadata": {},
   "outputs": [
    {
     "name": "stdout",
     "output_type": "stream",
     "text": [
      "---------Summary Statistics----------\n",
      "Number of Total Days: 20\n",
      "Number of Profitable Days: 0\n",
      "Number of Unprofitable Days: 1\n",
      "percent_profit: 0.0%\n",
      "percent_unprofit:5.0%\n",
      "-------------------------------------\n",
      "Profitable Days: []\n",
      "Unprofitable Days: [-311]\n",
      "-------------------------------------\n",
      "Total Profits/Losses: 1139\n",
      "Daily Average: 56.95\n",
      "Worst Loss: -311\n",
      "Best Gain: 0\n"
     ]
    }
   ],
   "source": [
    "# @TODO: Print out the summary statistics\n",
    "print(\"---------Summary Statistics----------\")\n",
    "print(f\"Number of Total Days: {count}\")\n",
    "print(f\"Number of Profitable Days: {profitable_count}\")\n",
    "print(f\"Number of Unprofitable Days: {unprofitable_count}\")\n",
    "print(f\"percent_profit: {percent_profit}%\")\n",
    "print(f\"percent_unprofit:{percent_unprofit}%\")\n",
    "print(\"-------------------------------------\")\n",
    "print(f\"Profitable Days: {profitable_days}\")\n",
    "print(f\"Unprofitable Days: {unprofitable_days}\")\n",
    "print(\"-------------------------------------\")\n",
    "print(f\"Total Profits/Losses: {total}\")\n",
    "print(f\"Daily Average: {average}\")\n",
    "print(f\"Worst Loss: {minimum}\")\n",
    "print(f\"Best Gain: {maximum}\")"
   ]
  },
  {
   "cell_type": "code",
   "execution_count": 84,
   "metadata": {},
   "outputs": [],
   "source": [
    "count=0 \n",
    "total=0\n",
    "average=0\n",
    "minimum=0\n",
    "maximum=0\n"
   ]
  },
  {
   "cell_type": "code",
   "execution_count": 85,
   "metadata": {},
   "outputs": [],
   "source": [
    "cash_tips= [22, 10, 30, 45, 54, 60, 56]"
   ]
  },
  {
   "cell_type": "code",
   "execution_count": 89,
   "metadata": {},
   "outputs": [
    {
     "name": "stdout",
     "output_type": "stream",
     "text": [
      "22\n",
      "10\n",
      "30\n",
      "45\n",
      "54\n",
      "60\n",
      "56\n"
     ]
    }
   ],
   "source": [
    "for tip in cash_tips:\n",
    "    print(tip)"
   ]
  },
  {
   "cell_type": "code",
   "execution_count": 95,
   "metadata": {},
   "outputs": [],
   "source": [
    "for tip in cash_tips:\n",
    "    total+= tip\n",
    "    count += 1\n",
    "if minimum ==0:\n",
    "    minimum = tip\n",
    "elif tip < minimum:\n",
    "    minimum=tip\n",
    "elif tip > maximum:\n",
    "    maximum= tip"
   ]
  },
  {
   "cell_type": "code",
   "execution_count": 96,
   "metadata": {},
   "outputs": [],
   "source": [
    "average=round(total/count,2)"
   ]
  },
  {
   "cell_type": "code",
   "execution_count": 97,
   "metadata": {},
   "outputs": [
    {
     "name": "stdout",
     "output_type": "stream",
     "text": [
      "---------Summary Statistics----------\n",
      "Number of Days: 7\n",
      "Total Tips: 277\n",
      "Daily Average: 39.57\n",
      "Least Amount of Tips: 56\n",
      "Maximum Amount of Tips: 0\n"
     ]
    }
   ],
   "source": [
    " # Print out the summary statistics\n",
    "print(\"---------Summary Statistics----------\")\n",
    "print(f\"Number of Days: {count}\")\n",
    "print(f\"Total Tips: {total}\")\n",
    "print(f\"Daily Average: {average}\")\n",
    "print(f\"Least Amount of Tips: {minimum}\")\n",
    "print(f\"Maximum Amount of Tips: {maximum}\")"
   ]
  },
  {
   "cell_type": "code",
   "execution_count": null,
   "metadata": {},
   "outputs": [],
   "source": []
  }
 ],
 "metadata": {
  "kernelspec": {
   "display_name": "Python 3",
   "language": "python",
   "name": "python3"
  },
  "language_info": {
   "codemirror_mode": {
    "name": "ipython",
    "version": 3
   },
   "file_extension": ".py",
   "mimetype": "text/x-python",
   "name": "python",
   "nbconvert_exporter": "python",
   "pygments_lexer": "ipython3",
   "version": "3.7.7"
  }
 },
 "nbformat": 4,
 "nbformat_minor": 4
}
